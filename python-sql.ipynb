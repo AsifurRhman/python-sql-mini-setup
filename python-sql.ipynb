{
 "cells": [
  {
   "cell_type": "code",
   "execution_count": 1,
   "id": "06500df3-3588-4235-bdec-4c53038ca5c0",
   "metadata": {},
   "outputs": [
    {
     "name": "stdout",
     "output_type": "stream",
     "text": [
      "Requirement already satisfied: mysql-connector-python in c:\\users\\admin\\anaconda3\\lib\\site-packages (8.4.0)\n"
     ]
    }
   ],
   "source": [
    "\n",
    "!pip install mysql-connector-python\n",
    "\n",
    "import mysql.connector\n",
    "from mysql.connector import Error\n",
    "import pandas as pd"
   ]
  },
  {
   "cell_type": "code",
   "execution_count": 2,
   "id": "25f9b17a-99c9-4253-b381-aa31d4d2c31f",
   "metadata": {},
   "outputs": [
    {
     "name": "stdout",
     "output_type": "stream",
     "text": [
      "MySQL Database connection successful\n"
     ]
    }
   ],
   "source": [
    "def create_server_connection(host_name, user_name, user_password):\n",
    "    connection = None\n",
    "    try:\n",
    "        connection = mysql.connector.connect(\n",
    "            host=host_name,\n",
    "            user=user_name,\n",
    "            password=user_password\n",
    "        )\n",
    "        print(\"MySQL Database connection successful\")\n",
    "    except Error as err:\n",
    "        print(f\"Error: '{err}'\")\n",
    "    return connection\n",
    "\n",
    "password = \"sourav01798\"\n",
    "db = \"python_sql\"\n",
    "connection = create_server_connection(\"localhost\", \"root\", password)"
   ]
  },
  {
   "cell_type": "code",
   "execution_count": 3,
   "id": "2bd115b1-cec7-4e4d-ad5a-032a3dd13d1a",
   "metadata": {},
   "outputs": [
    {
     "name": "stdout",
     "output_type": "stream",
     "text": [
      "Error:'1007 (HY000): Can't create database 'python_sql'; database exists'\n"
     ]
    }
   ],
   "source": [
    " def create_database(connection,query):\n",
    "     cursor = connection.cursor()\n",
    "     try:\n",
    "         cursor.execute(query)\n",
    "         print(\"Database created successfully\")\n",
    "     except Error as err:\n",
    "         print(f\"Error:'{err}'\")\n",
    "\n",
    "create_database_query = \"Create database python_sql\"\n",
    "create_database(connection,create_database_query)"
   ]
  },
  {
   "cell_type": "code",
   "execution_count": 4,
   "id": "0b9d510a-f195-4ae6-a67c-2f5aedd4cbd1",
   "metadata": {},
   "outputs": [],
   "source": [
    "def create_db_connection(host_name,user_name,user_password,db_name):\n",
    "    connection = None\n",
    "    try:\n",
    "        connection = mysql.connector.connect(\n",
    "            host = host_name,\n",
    "            user = user_name,\n",
    "            password = user_password,\n",
    "            database = db_name)\n",
    "        \n",
    "        print(\"Database connected successfully\")\n",
    "    except Error as err:\n",
    "        print(f\"Error:'{err}'\")\n",
    "    return connection\n",
    "        "
   ]
  },
  {
   "cell_type": "code",
   "execution_count": 5,
   "id": "2f165dff-ccb0-461b-9913-329e9d7728f5",
   "metadata": {},
   "outputs": [],
   "source": [
    "#commit instructs the database to make the changes permanent and visible to other connections or transactions. If an error occurs before committing, the changes can be rolled back, ensuring data integrity.\n",
    "\n",
    "def execute_query(connection,query):\n",
    "    cursor = connection.cursor()\n",
    "    try:\n",
    "        cursor.execute(query)\n",
    "        connection.commit()\n",
    "        print(\"Query was successful\")\n",
    "    except Error as err:\n",
    "        print(f\"Error:'{err}'\")"
   ]
  },
  {
   "cell_type": "code",
   "execution_count": 6,
   "id": "33cb39bd-ad35-4abe-b8f8-59e538866a0a",
   "metadata": {},
   "outputs": [
    {
     "name": "stdout",
     "output_type": "stream",
     "text": [
      "Database connected successfully\n",
      "Error:'1050 (42S01): Table 'orders' already exists'\n"
     ]
    }
   ],
   "source": [
    "create_orders_query = \"\"\"\n",
    "create table orders(\n",
    "order_id int primary key,\n",
    "customer_name varchar(30) not null,\n",
    "product_name varchar(20) not null,\n",
    "date_ordered date,\n",
    "quantity int,\n",
    "unit_price float,\n",
    "phone int);\n",
    "\"\"\"\n",
    "\n",
    "db_connection = create_db_connection(\"localhost\", \"root\", password, db)\n",
    "execute_query(db_connection, create_orders_query)"
   ]
  },
  {
   "cell_type": "code",
   "execution_count": 7,
   "id": "692cde04-3e9b-4dbf-9fb4-92389dd31179",
   "metadata": {},
   "outputs": [
    {
     "name": "stdout",
     "output_type": "stream",
     "text": [
      "Database connected successfully\n",
      "Error:'1630 (42000): FUNCTION datetime.date does not exist. Check the 'Function Name Parsing and Resolution' section in the Reference Manual'\n"
     ]
    }
   ],
   "source": [
    "data_orders = \"\"\"\n",
    "insert into orders values\n",
    "(101,'Sourav','Mobile','2024-5-26',1,80000,01858557886),\n",
    "(102,'Asif','laptop','2024-5-26',1,90000,01858557886),\n",
    "(103,'khan','watch','2024-5-26',2,50000,01858557886),\n",
    "(104,'Arefin','Tab','2024-5-26',1,80000,01798406271),\n",
    "(105,'Rahman','Desktop','2024-5-26',1,100000,01619753244),\n",
    "(106, 'MARKS', 'Desktop', datetime.date(2020, 5, 26), 1, 30000.0, '1619753244');\n",
    "\"\"\"\n",
    "db_connection = create_db_connection(\"localhost\", \"root\", password, db)\n",
    "execute_query(db_connection, data_orders)"
   ]
  },
  {
   "cell_type": "code",
   "execution_count": 8,
   "id": "d7e49a5a-ed4e-4880-adcf-d401723f1f28",
   "metadata": {},
   "outputs": [],
   "source": [
    "def read_query(connection, query):\n",
    "    cursor = connection.cursor()\n",
    "    result = None\n",
    "    try:\n",
    "        cursor.execute(query)\n",
    "        result = cursor.fetchall()\n",
    "        return result\n",
    "    except Error as err:\n",
    "        print(f\"Error: '{err}'\")\n"
   ]
  },
  {
   "cell_type": "code",
   "execution_count": 23,
   "id": "2d254244-9a30-42a0-a7a5-57f0fdef1c4b",
   "metadata": {},
   "outputs": [
    {
     "name": "stdout",
     "output_type": "stream",
     "text": [
      "Database connected successfully\n",
      "Order 1:- (101, 'Sourav', 'Mobile', datetime.date(2024, 5, 26), 1, 80000.0, '1858557886')\n",
      "Order 2:- (102, 'Asif', 'laptop', datetime.date(2024, 5, 26), 1, 90000.0, '1858557886')\n",
      "Order 3:- (103, 'khan', 'watch', datetime.date(2024, 5, 26), 2, 50000.0, '1858557886')\n",
      "Order 4:- (104, 'Arefin', 'Tab', datetime.date(2024, 5, 26), 1, 80000.0, '1798406271')\n",
      "Order 5:- (105, 'Rahman', 'Desktop', datetime.date(2024, 5, 26), 1, 100000.0, '1619753244')\n"
     ]
    }
   ],
   "source": [
    "see_all_orders = \"\"\"\n",
    "select * from orders\n",
    "\"\"\"\n",
    "db_connection = create_db_connection(\"localhost\", \"root\", password, db)\n",
    "results = read_query(db_connection, see_all_orders)\n",
    "\n",
    "order_number = 1  # Initialize the order number counter\n",
    "\n",
    "for result in results:\n",
    "    print(f\"Order {order_number}:- {result}\")\n",
    "    order_number += 1  \n"
   ]
  },
  {
   "cell_type": "code",
   "execution_count": 10,
   "id": "2f113187-4a1e-4ef6-b5df-8e7b32fc7c61",
   "metadata": {},
   "outputs": [
    {
     "name": "stdout",
     "output_type": "stream",
     "text": [
      "Database connected successfully\n",
      "Order 1:- ('Sourav', '1858557886')\n",
      "Order 2:- ('Asif', '1858557886')\n",
      "Order 3:- ('khan', '1858557886')\n",
      "Order 4:- ('Arefin', '1798406271')\n",
      "Order 5:- ('Rahman', '1619753244')\n",
      "Order 6:- ('MARKS', '1619753244')\n"
     ]
    }
   ],
   "source": [
    "indivudual_coloumns = \"\"\"\n",
    "select customer_name,phone from orders\n",
    "\"\"\"\n",
    "db_connection = create_db_connection(\"localhost\", \"root\", password, db)\n",
    "results = read_query(db_connection, indivudual_coloumns)\n",
    "\n",
    "order_number = 1  # Initialize the order number counter\n",
    "\n",
    "for result in results:\n",
    "    print(f\"Order {order_number}:- {result}\")\n",
    "    order_number += 1  \n"
   ]
  },
  {
   "cell_type": "code",
   "execution_count": 11,
   "id": "a9276eee-997d-41ad-8a2f-59d961acfa99",
   "metadata": {},
   "outputs": [
    {
     "name": "stdout",
     "output_type": "stream",
     "text": [
      "Database connected successfully\n",
      "Order 1:- (2024,)\n",
      "Order 2:- (2024,)\n",
      "Order 3:- (2024,)\n",
      "Order 4:- (2024,)\n",
      "Order 5:- (2024,)\n",
      "Order 6:- (2020,)\n"
     ]
    }
   ],
   "source": [
    "only_year = \"\"\"\n",
    "select year(date_ordered) from orders\n",
    "\"\"\"\n",
    "db_connection = create_db_connection(\"localhost\", \"root\", password, db)\n",
    "results = read_query(db_connection, only_year)\n",
    "\n",
    "order_number = 1  # Initialize the order number counter\n",
    "\n",
    "for result in results:\n",
    "    print(f\"Order {order_number}:- {result}\")\n",
    "    order_number += 1  \n"
   ]
  },
  {
   "cell_type": "code",
   "execution_count": 12,
   "id": "8de6df2a-a178-41a4-ab6e-453557c9c2ce",
   "metadata": {},
   "outputs": [
    {
     "name": "stdout",
     "output_type": "stream",
     "text": [
      "Database connected successfully\n",
      "Order 1:- (2024,)\n",
      "Order 2:- (2020,)\n"
     ]
    }
   ],
   "source": [
    "unique_year = \"\"\"\n",
    "select distinct year(date_ordered) from orders\n",
    "\"\"\"\n",
    "db_connection = create_db_connection(\"localhost\", \"root\", password, db)\n",
    "results = read_query(db_connection, unique_year)\n",
    "\n",
    "order_number = 1  # Initialize the order number counter\n",
    "\n",
    "for result in results:\n",
    "    print(f\"Order {order_number}:- {result}\")\n",
    "    order_number += 1  \n"
   ]
  },
  {
   "cell_type": "code",
   "execution_count": 13,
   "id": "078805d5-fb89-4738-8c07-67d8714ebbdb",
   "metadata": {},
   "outputs": [
    {
     "name": "stdout",
     "output_type": "stream",
     "text": [
      "Database connected successfully\n",
      "Order 1:- (106, 'MARKS', 'Desktop', datetime.date(2020, 5, 26), 1, 35000.0, '1619753244')\n"
     ]
    }
   ],
   "source": [
    "find_use_year = \"\"\"\n",
    "select * from orders where date_ordered < \"2024-5-20\"\n",
    "\"\"\"\n",
    "db_connection = create_db_connection(\"localhost\", \"root\", password, db)\n",
    "results = read_query(db_connection, find_use_year)\n",
    "\n",
    "order_number = 1  # Initialize the order number counter\n",
    "\n",
    "for result in results:\n",
    "    print(f\"Order {order_number}:- {result}\")\n",
    "    order_number += 1  \n"
   ]
  },
  {
   "cell_type": "code",
   "execution_count": 14,
   "id": "6146b0de-0ea9-4b01-8532-a79e7f507528",
   "metadata": {},
   "outputs": [
    {
     "name": "stdout",
     "output_type": "stream",
     "text": [
      "Database connected successfully\n",
      "Order 1:- (101, 'Sourav', 'Mobile', datetime.date(2024, 5, 26), 1, 80000.0, '1858557886')\n",
      "Order 2:- (102, 'Asif', 'laptop', datetime.date(2024, 5, 26), 1, 90000.0, '1858557886')\n",
      "Order 3:- (103, 'khan', 'watch', datetime.date(2024, 5, 26), 2, 50000.0, '1858557886')\n",
      "Order 4:- (104, 'Arefin', 'Tab', datetime.date(2024, 5, 26), 1, 80000.0, '1798406271')\n",
      "Order 5:- (105, 'Rahman', 'Desktop', datetime.date(2024, 5, 26), 1, 100000.0, '1619753244')\n"
     ]
    }
   ],
   "source": [
    "find_use_year_2 = \"\"\"\n",
    "select * from orders where date_ordered > \"2020-5-27\"\n",
    "\"\"\"\n",
    "db_connection = create_db_connection(\"localhost\", \"root\", password, db)\n",
    "results = read_query(db_connection, find_use_year_2)\n",
    "\n",
    "order_number = 1  # Initialize the order number counter\n",
    "\n",
    "for result in results:\n",
    "    print(f\"Order {order_number}:- {result}\")\n",
    "    order_number += 1  \n"
   ]
  },
  {
   "cell_type": "code",
   "execution_count": 15,
   "id": "0f4425c9-8f24-4a25-99b1-bfbb36722c0b",
   "metadata": {},
   "outputs": [
    {
     "name": "stdout",
     "output_type": "stream",
     "text": [
      "Database connected successfully\n",
      "Order 1:- (106, 'MARKS', 'Desktop', datetime.date(2020, 5, 26), 1, 35000.0, '1619753244')\n",
      "Order 2:- (103, 'khan', 'watch', datetime.date(2024, 5, 26), 2, 50000.0, '1858557886')\n",
      "Order 3:- (101, 'Sourav', 'Mobile', datetime.date(2024, 5, 26), 1, 80000.0, '1858557886')\n",
      "Order 4:- (104, 'Arefin', 'Tab', datetime.date(2024, 5, 26), 1, 80000.0, '1798406271')\n",
      "Order 5:- (102, 'Asif', 'laptop', datetime.date(2024, 5, 26), 1, 90000.0, '1858557886')\n",
      "Order 6:- (105, 'Rahman', 'Desktop', datetime.date(2024, 5, 26), 1, 100000.0, '1619753244')\n"
     ]
    }
   ],
   "source": [
    "order_by = \"\"\"\n",
    "select * from orders order by unit_price\n",
    "\"\"\"\n",
    "db_connection = create_db_connection(\"localhost\", \"root\", password, db)\n",
    "results = read_query(db_connection, order_by)\n",
    "\n",
    "order_number = 1  # Initialize the order number counter\n",
    "\n",
    "for result in results:\n",
    "    print(f\"Order {order_number}:- {result}\")\n",
    "    order_number += 1  \n"
   ]
  },
  {
   "cell_type": "code",
   "execution_count": 24,
   "id": "5b4d20e3-42a4-4594-b92d-9f9965312c01",
   "metadata": {},
   "outputs": [
    {
     "data": {
      "text/html": [
       "<div>\n",
       "<style scoped>\n",
       "    .dataframe tbody tr th:only-of-type {\n",
       "        vertical-align: middle;\n",
       "    }\n",
       "\n",
       "    .dataframe tbody tr th {\n",
       "        vertical-align: top;\n",
       "    }\n",
       "\n",
       "    .dataframe thead th {\n",
       "        text-align: right;\n",
       "    }\n",
       "</style>\n",
       "<table border=\"1\" class=\"dataframe\">\n",
       "  <thead>\n",
       "    <tr style=\"text-align: right;\">\n",
       "      <th></th>\n",
       "      <th>order_id</th>\n",
       "      <th>customer_name</th>\n",
       "      <th>product_name</th>\n",
       "      <th>date_ordered</th>\n",
       "      <th>quantity</th>\n",
       "      <th>unit_price</th>\n",
       "      <th>phone</th>\n",
       "    </tr>\n",
       "  </thead>\n",
       "  <tbody>\n",
       "    <tr>\n",
       "      <th>0</th>\n",
       "      <td>101</td>\n",
       "      <td>Sourav</td>\n",
       "      <td>Mobile</td>\n",
       "      <td>2024-05-26</td>\n",
       "      <td>1</td>\n",
       "      <td>80000.0</td>\n",
       "      <td>1858557886</td>\n",
       "    </tr>\n",
       "    <tr>\n",
       "      <th>1</th>\n",
       "      <td>102</td>\n",
       "      <td>Asif</td>\n",
       "      <td>laptop</td>\n",
       "      <td>2024-05-26</td>\n",
       "      <td>1</td>\n",
       "      <td>90000.0</td>\n",
       "      <td>1858557886</td>\n",
       "    </tr>\n",
       "    <tr>\n",
       "      <th>2</th>\n",
       "      <td>103</td>\n",
       "      <td>khan</td>\n",
       "      <td>watch</td>\n",
       "      <td>2024-05-26</td>\n",
       "      <td>2</td>\n",
       "      <td>50000.0</td>\n",
       "      <td>1858557886</td>\n",
       "    </tr>\n",
       "    <tr>\n",
       "      <th>3</th>\n",
       "      <td>104</td>\n",
       "      <td>Arefin</td>\n",
       "      <td>Tab</td>\n",
       "      <td>2024-05-26</td>\n",
       "      <td>1</td>\n",
       "      <td>80000.0</td>\n",
       "      <td>1798406271</td>\n",
       "    </tr>\n",
       "    <tr>\n",
       "      <th>4</th>\n",
       "      <td>105</td>\n",
       "      <td>Rahman</td>\n",
       "      <td>Desktop</td>\n",
       "      <td>2024-05-26</td>\n",
       "      <td>1</td>\n",
       "      <td>100000.0</td>\n",
       "      <td>1619753244</td>\n",
       "    </tr>\n",
       "  </tbody>\n",
       "</table>\n",
       "</div>"
      ],
      "text/plain": [
       "   order_id customer_name product_name date_ordered  quantity  unit_price  \\\n",
       "0       101        Sourav       Mobile   2024-05-26         1     80000.0   \n",
       "1       102          Asif       laptop   2024-05-26         1     90000.0   \n",
       "2       103          khan        watch   2024-05-26         2     50000.0   \n",
       "3       104        Arefin          Tab   2024-05-26         1     80000.0   \n",
       "4       105        Rahman      Desktop   2024-05-26         1    100000.0   \n",
       "\n",
       "        phone  \n",
       "0  1858557886  \n",
       "1  1858557886  \n",
       "2  1858557886  \n",
       "3  1798406271  \n",
       "4  1619753244  "
      ]
     },
     "metadata": {},
     "output_type": "display_data"
    }
   ],
   "source": [
    "#create own data frame from db using pandas\n",
    "\n",
    "from_db = []\n",
    "\n",
    "for result in results:\n",
    "    result = list(result)\n",
    "   \n",
    "    from_db.append(result)\n",
    "     \n",
    "columns = [\"order_id\",\"customer_name\",\"product_name\",\"date_ordered\",\"quantity\",\"unit_price\",\"phone\"]\n",
    "df = pd.DataFrame(from_db,columns = columns)\n",
    "display(df)\n"
   ]
  },
  {
   "cell_type": "code",
   "execution_count": 17,
   "id": "5f65988d-6c42-4880-a06d-d245d82a9848",
   "metadata": {},
   "outputs": [
    {
     "name": "stdout",
     "output_type": "stream",
     "text": [
      "Database connected successfully\n",
      "Query was successful\n"
     ]
    }
   ],
   "source": [
    "\n",
    "update_unit_price = \"\"\"\n",
    "update orders\n",
    "set unit_price = 35000\n",
    "where order_id = 106\n",
    "\"\"\"\n",
    "\n",
    "\n",
    "db_connection = create_db_connection(\"localhost\", \"root\", password, db)\n",
    "execute_query(db_connection, update_unit_price)"
   ]
  },
  {
   "cell_type": "code",
   "execution_count": 21,
   "id": "6e92d325-3b3e-4510-b802-ff5ebdb104f5",
   "metadata": {},
   "outputs": [
    {
     "name": "stdout",
     "output_type": "stream",
     "text": [
      "Database connected successfully\n",
      "Query was successful\n"
     ]
    }
   ],
   "source": [
    "delete_order = \"\"\"\n",
    "delete from orders\n",
    "where order_id = 106\n",
    "\"\"\"\n",
    "\n",
    "db_connection = create_db_connection(\"localhost\", \"root\", password, db)\n",
    "execute_query(db_connection, delete_order)"
   ]
  }
 ],
 "metadata": {
  "kernelspec": {
   "display_name": "Python 3 (ipykernel)",
   "language": "python",
   "name": "python3"
  },
  "language_info": {
   "codemirror_mode": {
    "name": "ipython",
    "version": 3
   },
   "file_extension": ".py",
   "mimetype": "text/x-python",
   "name": "python",
   "nbconvert_exporter": "python",
   "pygments_lexer": "ipython3",
   "version": "3.11.7"
  }
 },
 "nbformat": 4,
 "nbformat_minor": 5
}
